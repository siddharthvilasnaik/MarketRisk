{
 "cells": [
  {
   "cell_type": "markdown",
   "metadata": {},
   "source": [
    "# Market Risk application"
   ]
  },
  {
   "cell_type": "markdown",
   "metadata": {},
   "source": [
    "### Importing Libraries"
   ]
  },
  {
   "cell_type": "code",
   "execution_count": 6,
   "metadata": {},
   "outputs": [],
   "source": [
    "#! pip install yfinance\n",
    "#! pip install tabulate\n",
    "#! pip install quandl\n",
    "#! pip install pandas_datareader\n",
    "#!pip install seaborn"
   ]
  },
  {
   "cell_type": "code",
   "execution_count": 7,
   "metadata": {},
   "outputs": [],
   "source": [
    "# Data manipulation\n",
    "import numpy as np\n",
    "import pandas as pd\n",
    "\n",
    "# Plotting\n",
    "import matplotlib.pyplot as plt\n",
    "import seaborn as sns\n",
    "import matplotlib.mlab as mlab\n",
    "\n",
    "# Statistical calculation\n",
    "from scipy.stats import norm\n",
    "\n",
    "# Data fetching\n",
    "import yfinance as yf\n",
    "\n",
    "# DateTime\n",
    "from datetime import date\n",
    "\n",
    "# Tabular data output\n",
    "from tabulate import tabulate"
   ]
  },
  {
   "cell_type": "markdown",
   "metadata": {},
   "source": [
    "### Import data and calculating daily returns"
   ]
  },
  {
   "cell_type": "code",
   "execution_count": 8,
   "metadata": {},
   "outputs": [
    {
     "name": "stdout",
     "output_type": "stream",
     "text": [
      "[*********************100%***********************]  1 of 1 completed\n"
     ]
    }
   ],
   "source": [
    "# Import data for: , from: ,to:\n",
    "data = yf.download('RELIANCE.NS', '2018-01-01',date.today())\n",
    "df = pd.DataFrame(data['Close'])"
   ]
  },
  {
   "cell_type": "code",
   "execution_count": 9,
   "metadata": {},
   "outputs": [],
   "source": [
    "#Calculate percent change\n",
    "df['returns'] = df.Close.pct_change()"
   ]
  },
  {
   "cell_type": "code",
   "execution_count": 10,
   "metadata": {},
   "outputs": [
    {
     "data": {
      "text/html": [
       "<div>\n",
       "<style scoped>\n",
       "    .dataframe tbody tr th:only-of-type {\n",
       "        vertical-align: middle;\n",
       "    }\n",
       "\n",
       "    .dataframe tbody tr th {\n",
       "        vertical-align: top;\n",
       "    }\n",
       "\n",
       "    .dataframe thead th {\n",
       "        text-align: right;\n",
       "    }\n",
       "</style>\n",
       "<table border=\"1\" class=\"dataframe\">\n",
       "  <thead>\n",
       "    <tr style=\"text-align: right;\">\n",
       "      <th></th>\n",
       "      <th>Close</th>\n",
       "      <th>returns</th>\n",
       "    </tr>\n",
       "    <tr>\n",
       "      <th>Date</th>\n",
       "      <th></th>\n",
       "      <th></th>\n",
       "    </tr>\n",
       "  </thead>\n",
       "  <tbody>\n",
       "    <tr>\n",
       "      <th>2018-01-01</th>\n",
       "      <td>901.207458</td>\n",
       "      <td>NaN</td>\n",
       "    </tr>\n",
       "    <tr>\n",
       "      <th>2018-01-02</th>\n",
       "      <td>902.594299</td>\n",
       "      <td>0.001539</td>\n",
       "    </tr>\n",
       "    <tr>\n",
       "      <th>2018-01-03</th>\n",
       "      <td>906.210022</td>\n",
       "      <td>0.004006</td>\n",
       "    </tr>\n",
       "    <tr>\n",
       "      <th>2018-01-04</th>\n",
       "      <td>911.658386</td>\n",
       "      <td>0.006012</td>\n",
       "    </tr>\n",
       "    <tr>\n",
       "      <th>2018-01-05</th>\n",
       "      <td>914.580688</td>\n",
       "      <td>0.003205</td>\n",
       "    </tr>\n",
       "  </tbody>\n",
       "</table>\n",
       "</div>"
      ],
      "text/plain": [
       "                 Close   returns\n",
       "Date                            \n",
       "2018-01-01  901.207458       NaN\n",
       "2018-01-02  902.594299  0.001539\n",
       "2018-01-03  906.210022  0.004006\n",
       "2018-01-04  911.658386  0.006012\n",
       "2018-01-05  914.580688  0.003205"
      ]
     },
     "execution_count": 10,
     "metadata": {},
     "output_type": "execute_result"
    }
   ],
   "source": [
    "#Check top index\n",
    "df.head()"
   ]
  },
  {
   "cell_type": "code",
   "execution_count": 11,
   "metadata": {},
   "outputs": [
    {
     "data": {
      "text/html": [
       "<div>\n",
       "<style scoped>\n",
       "    .dataframe tbody tr th:only-of-type {\n",
       "        vertical-align: middle;\n",
       "    }\n",
       "\n",
       "    .dataframe tbody tr th {\n",
       "        vertical-align: top;\n",
       "    }\n",
       "\n",
       "    .dataframe thead th {\n",
       "        text-align: right;\n",
       "    }\n",
       "</style>\n",
       "<table border=\"1\" class=\"dataframe\">\n",
       "  <thead>\n",
       "    <tr style=\"text-align: right;\">\n",
       "      <th></th>\n",
       "      <th>Close</th>\n",
       "      <th>returns</th>\n",
       "    </tr>\n",
       "    <tr>\n",
       "      <th>Date</th>\n",
       "      <th></th>\n",
       "      <th></th>\n",
       "    </tr>\n",
       "  </thead>\n",
       "  <tbody>\n",
       "    <tr>\n",
       "      <th>2022-02-07</th>\n",
       "      <td>2317.100098</td>\n",
       "      <td>-0.006091</td>\n",
       "    </tr>\n",
       "    <tr>\n",
       "      <th>2022-02-08</th>\n",
       "      <td>2356.050049</td>\n",
       "      <td>0.016810</td>\n",
       "    </tr>\n",
       "    <tr>\n",
       "      <th>2022-02-09</th>\n",
       "      <td>2383.500000</td>\n",
       "      <td>0.011651</td>\n",
       "    </tr>\n",
       "    <tr>\n",
       "      <th>2022-02-10</th>\n",
       "      <td>2381.050049</td>\n",
       "      <td>-0.001028</td>\n",
       "    </tr>\n",
       "    <tr>\n",
       "      <th>2022-02-11</th>\n",
       "      <td>2376.399902</td>\n",
       "      <td>-0.001953</td>\n",
       "    </tr>\n",
       "  </tbody>\n",
       "</table>\n",
       "</div>"
      ],
      "text/plain": [
       "                  Close   returns\n",
       "Date                             \n",
       "2022-02-07  2317.100098 -0.006091\n",
       "2022-02-08  2356.050049  0.016810\n",
       "2022-02-09  2383.500000  0.011651\n",
       "2022-02-10  2381.050049 -0.001028\n",
       "2022-02-11  2376.399902 -0.001953"
      ]
     },
     "execution_count": 11,
     "metadata": {},
     "output_type": "execute_result"
    }
   ],
   "source": [
    "#Check bottom index\n",
    "df.tail()"
   ]
  },
  {
   "cell_type": "code",
   "execution_count": 12,
   "metadata": {},
   "outputs": [],
   "source": [
    "#Drop missings values\n",
    "df = df.dropna()"
   ]
  },
  {
   "cell_type": "code",
   "execution_count": 13,
   "metadata": {},
   "outputs": [
    {
     "data": {
      "image/png": "[encoded data removed]",
      "text/plain": [
       "<Figure size 432x288 with 1 Axes>"
      ]
     },
     "metadata": {
      "needs_background": "light"
     },
     "output_type": "display_data"
    }
   ],
   "source": [
    "#Plot daily returns\n",
    "plt.hist(df.returns, bins=40)\n",
    "plt.xlabel('Returns')\n",
    "df.sort_values('returns', inplace= True, ascending = True)\n",
    "plt.ylabel('Fequency')\n",
    "plt.grid(True)\n",
    "plt.show()"
   ]
  },
  {
   "cell_type": "code",
   "execution_count": 14,
   "metadata": {},
   "outputs": [],
   "source": [
    "#Sort the returns\n",
    "df.sort_values('returns', inplace= True, ascending = True)"
   ]
  },
  {
   "cell_type": "markdown",
   "metadata": {},
   "source": [
    "### Calculate Value-at-Risk - Historical Methods"
   ]
  },
  {
   "cell_type": "code",
   "execution_count": 15,
   "metadata": {},
   "outputs": [
    {
     "name": "stdout",
     "output_type": "stream",
     "text": [
      "Confidence Level      Value at Risk\n",
      "------------------  ---------------\n",
      "90%                          0.0199\n",
      "95%                          0.0265\n",
      "99%                          0.0442\n"
     ]
    }
   ],
   "source": [
    "VaR_90= df['returns'].quantile(0.1)\n",
    "VaR_95= df['returns'].quantile(0.05)\n",
    "VaR_99= df['returns'].quantile(0.01)\n",
    "\n",
    "print(tabulate([['90%', round(VaR_90,4)*-1], ['95%', round(VaR_95,4)*-1], [\"99%\", round(VaR_99,4)*-1]],\n",
    "               headers=['Confidence Level', 'Value at Risk']))"
   ]
  },
  {
   "cell_type": "markdown",
   "metadata": {},
   "source": [
    "# Sample strategy"
   ]
  },
  {
   "cell_type": "markdown",
   "metadata": {},
   "source": [
    "We decide to follow the below steps\n",
    "\n",
    "Buy the stock on the fourth day open, if the stock closes up consecutively for three days.\n",
    "Sell it on the fifth day open."
   ]
  },
  {
   "cell_type": "code",
   "execution_count": 16,
   "metadata": {},
   "outputs": [
    {
     "name": "stdout",
     "output_type": "stream",
     "text": [
      "[*********************100%***********************]  1 of 1 completed\n",
      "Buy and hold returns:  0.97\n",
      "Strategy returns:  -0.08\n"
     ]
    }
   ],
   "source": [
    "df_original = yf.download('RELIANCE.NS', '2018-01-01',date.today())\n",
    "\n",
    "df = df_original.copy()\n",
    "\n",
    "# Create open to open returns\n",
    "df['oo_returns'] = np.log(df['Open'] / df['Open'].shift(1))\n",
    "\n",
    "# Create close to close returns\n",
    "df['cc_returns'] = np.log(df['Close'] / df['Close'].shift(1))\n",
    "\n",
    "# Generating trading signals\n",
    "# Day 1 = Down day\n",
    "# Day 2 = Down day\n",
    "# Day 3 = Down day\n",
    "# Day 4 = Buy at open\n",
    "\n",
    "df['signals'] = np.where((df['cc_returns'].shift(1) < 0) &\n",
    "                           (df['cc_returns'].shift(2) < 0) &\n",
    "                           (df['cc_returns'].shift(3) < 0), 1, 0)\n",
    "\n",
    "# To give the effect of buying on the next day open\n",
    "df['signals'] = df['signals'].shift(1)\n",
    "\n",
    "# Compute strategy returns\n",
    "\n",
    "df['strategy_returns'] = df['signals'].shift(1) * df['oo_returns']\n",
    "\n",
    "# Print returns\n",
    "\n",
    "print('Buy and hold returns: ', np.round(df['cc_returns'].cumsum()[-1], 2))\n",
    "print('Strategy returns: ', np.round(df['strategy_returns'].cumsum()[-1], 2))"
   ]
  },
  {
   "cell_type": "code",
   "execution_count": 17,
   "metadata": {},
   "outputs": [
    {
     "data": {
      "image/png": "[encoded data removed]",
      "text/plain": [
       "<Figure size 864x576 with 1 Axes>"
      ]
     },
     "metadata": {
      "needs_background": "light"
     },
     "output_type": "display_data"
    }
   ],
   "source": [
    "bnh = df['cc_returns'].cumsum()\n",
    "s_returns = df['strategy_returns'].cumsum()\n",
    "\n",
    "plt.figure(figsize = (12, 8))\n",
    "plt.plot(bnh)\n",
    "plt.plot(s_returns)\n",
    "plt.ylabel('Cumulative Returns')\n",
    "plt.xlabel('Date')\n",
    "plt.title('Returns Comparison')\n",
    "#plt.legend()\n",
    "plt.show()"
   ]
  },
  {
   "cell_type": "markdown",
   "metadata": {},
   "source": [
    "# Multi-Asset Portfolio"
   ]
  },
  {
   "cell_type": "code",
   "execution_count": 18,
   "metadata": {},
   "outputs": [],
   "source": [
    "# Import Quandl - VaR and CVaR\n",
    "import quandl\n",
    "from pandas_datareader import data as pdr"
   ]
  },
  {
   "cell_type": "code",
   "execution_count": 19,
   "metadata": {},
   "outputs": [],
   "source": [
    "# Create our portfolio of equities\n",
    "tickers = ['BHARTIARTL.NS', 'INDIGO.NS','HDFCBANK.NS', 'RELIANCE.NS','TATAMOTORS.NS']"
   ]
  },
  {
   "cell_type": "code",
   "execution_count": 20,
   "metadata": {},
   "outputs": [],
   "source": [
    "# Download closing prices\n",
    "data = pdr.get_data_yahoo(tickers, start=\"2018-01-01\", end=date.today())['Close']"
   ]
  },
  {
   "cell_type": "code",
   "execution_count": 21,
   "metadata": {},
   "outputs": [
    {
     "data": {
      "text/plain": [
       "<matplotlib.legend.Legend at 0x7fea2c173370>"
      ]
     },
     "execution_count": 21,
     "metadata": {},
     "output_type": "execute_result"
    },
    {
     "data": {
      "image/png": "[encoded data removed]",
      "text/plain": [
       "<Figure size 432x288 with 1 Axes>"
      ]
     },
     "metadata": {
      "needs_background": "light"
     },
     "output_type": "display_data"
    }
   ],
   "source": [
    "for i, col in enumerate(data.columns):\n",
    "   \n",
    "  data[col].plot()\n",
    "plt.title('Stock Price â‚¹')\n",
    "plt.xticks(rotation=80)\n",
    "plt.legend(data.columns)"
   ]
  },
  {
   "cell_type": "code",
   "execution_count": 22,
   "metadata": {},
   "outputs": [
    {
     "data": {
      "text/plain": [
       "1017"
      ]
     },
     "execution_count": 22,
     "metadata": {},
     "output_type": "execute_result"
    },
    {
     "data": {
      "image/png": "[encoded data removed]",
      "text/plain": [
       "<Figure size 432x288 with 1 Axes>"
      ]
     },
     "metadata": {
      "needs_background": "light"
     },
     "output_type": "display_data"
    }
   ],
   "source": [
    "#From the closing prices, calculate periodic returns\n",
    "returns = data.pct_change()\n",
    "\n",
    "returns.tail()\n",
    "\n",
    "for i, col in enumerate(returns.columns):\n",
    "   \n",
    "  returns[col].plot()\n",
    "plt.title('Returns')\n",
    "plt.xticks(rotation=80)\n",
    "plt.legend(returns.columns)\n",
    "\n",
    "length = len(returns)\n",
    "length"
   ]
  },
  {
   "cell_type": "code",
   "execution_count": 23,
   "metadata": {},
   "outputs": [
    {
     "data": {
      "text/plain": [
       "<matplotlib.legend.Legend at 0x7fea2bf10580>"
      ]
     },
     "execution_count": 23,
     "metadata": {},
     "output_type": "execute_result"
    },
    {
     "data": {
      "image/png": "[encoded data removed]",
      "text/plain": [
       "<Figure size 432x288 with 1 Axes>"
      ]
     },
     "metadata": {
      "needs_background": "light"
     },
     "output_type": "display_data"
    }
   ],
   "source": [
    "# Cumulative plot\n",
    "returns_cumulative = (returns+1).cumprod()\n",
    "\n",
    "for i, col in enumerate(returns.columns):\n",
    "   \n",
    "  returns_cumulative[col].plot()\n",
    "plt.title('Cumulative Returns')\n",
    "plt.xticks(rotation=80)\n",
    "plt.legend(returns_cumulative.columns)"
   ]
  },
  {
   "cell_type": "code",
   "execution_count": 24,
   "metadata": {},
   "outputs": [
    {
     "name": "stdout",
     "output_type": "stream",
     "text": [
      "Asset          Value at Risk @ 95%\n",
      "-----------  ---------------------\n",
      "AIRTEL                      0.0362\n",
      "HDFC                        0.0274\n",
      "INDIGO                      0.0424\n",
      "RELIANCE                    0.0326\n",
      "TATA MOTORS                 0.053\n"
     ]
    }
   ],
   "source": [
    "VaR_95_AIRTEL = norm.ppf(1-0.95, returns['BHARTIARTL.NS'].mean(), returns['BHARTIARTL.NS'].std())\n",
    "VaR_95_HDFC = norm.ppf(1-0.95, returns['HDFCBANK.NS'].mean(), returns['HDFCBANK.NS'].std())\n",
    "VaR_95_INDIGO = norm.ppf(1-0.95, returns['INDIGO.NS'].mean(), returns['INDIGO.NS'].std())\n",
    "VaR_95_RIL = norm.ppf(1-0.95, returns['RELIANCE.NS'].mean(), returns['RELIANCE.NS'].std())\n",
    "VaR_95_TATA = norm.ppf(1-0.95, returns['TATAMOTORS.NS'].mean(), returns['TATAMOTORS.NS'].std())\n",
    "\n",
    "print(tabulate([['AIRTEL', round(VaR_95_AIRTEL,4)*-1], ['HDFC', round(VaR_95_HDFC,4)*-1],\n",
    "                ['INDIGO', round(VaR_95_INDIGO,4)*-1], ['RELIANCE', round(VaR_95_RIL,4)*-1],\n",
    "                ['TATA MOTORS', round(VaR_95_TATA,4)*-1]],\n",
    "               headers=['Asset', 'Value at Risk @ 95%']))"
   ]
  },
  {
   "cell_type": "code",
   "execution_count": 25,
   "metadata": {},
   "outputs": [
    {
     "data": {
      "text/html": [
       "<div>\n",
       "<style scoped>\n",
       "    .dataframe tbody tr th:only-of-type {\n",
       "        vertical-align: middle;\n",
       "    }\n",
       "\n",
       "    .dataframe tbody tr th {\n",
       "        vertical-align: top;\n",
       "    }\n",
       "\n",
       "    .dataframe thead th {\n",
       "        text-align: right;\n",
       "    }\n",
       "</style>\n",
       "<table border=\"1\" class=\"dataframe\">\n",
       "  <thead>\n",
       "    <tr style=\"text-align: right;\">\n",
       "      <th>Symbols</th>\n",
       "      <th>BHARTIARTL.NS</th>\n",
       "      <th>INDIGO.NS</th>\n",
       "      <th>HDFCBANK.NS</th>\n",
       "      <th>RELIANCE.NS</th>\n",
       "      <th>TATAMOTORS.NS</th>\n",
       "    </tr>\n",
       "    <tr>\n",
       "      <th>Symbols</th>\n",
       "      <th></th>\n",
       "      <th></th>\n",
       "      <th></th>\n",
       "      <th></th>\n",
       "      <th></th>\n",
       "    </tr>\n",
       "  </thead>\n",
       "  <tbody>\n",
       "    <tr>\n",
       "      <th>BHARTIARTL.NS</th>\n",
       "      <td>1.00</td>\n",
       "      <td>0.18</td>\n",
       "      <td>0.31</td>\n",
       "      <td>0.28</td>\n",
       "      <td>0.28</td>\n",
       "    </tr>\n",
       "    <tr>\n",
       "      <th>INDIGO.NS</th>\n",
       "      <td>0.18</td>\n",
       "      <td>1.00</td>\n",
       "      <td>0.26</td>\n",
       "      <td>0.22</td>\n",
       "      <td>0.26</td>\n",
       "    </tr>\n",
       "    <tr>\n",
       "      <th>HDFCBANK.NS</th>\n",
       "      <td>0.31</td>\n",
       "      <td>0.26</td>\n",
       "      <td>1.00</td>\n",
       "      <td>0.42</td>\n",
       "      <td>0.34</td>\n",
       "    </tr>\n",
       "    <tr>\n",
       "      <th>RELIANCE.NS</th>\n",
       "      <td>0.28</td>\n",
       "      <td>0.22</td>\n",
       "      <td>0.42</td>\n",
       "      <td>1.00</td>\n",
       "      <td>0.35</td>\n",
       "    </tr>\n",
       "    <tr>\n",
       "      <th>TATAMOTORS.NS</th>\n",
       "      <td>0.28</td>\n",
       "      <td>0.26</td>\n",
       "      <td>0.34</td>\n",
       "      <td>0.35</td>\n",
       "      <td>1.00</td>\n",
       "    </tr>\n",
       "  </tbody>\n",
       "</table>\n",
       "</div>"
      ],
      "text/plain": [
       "Symbols        BHARTIARTL.NS  INDIGO.NS  HDFCBANK.NS  RELIANCE.NS  \\\n",
       "Symbols                                                             \n",
       "BHARTIARTL.NS           1.00       0.18         0.31         0.28   \n",
       "INDIGO.NS               0.18       1.00         0.26         0.22   \n",
       "HDFCBANK.NS             0.31       0.26         1.00         0.42   \n",
       "RELIANCE.NS             0.28       0.22         0.42         1.00   \n",
       "TATAMOTORS.NS           0.28       0.26         0.34         0.35   \n",
       "\n",
       "Symbols        TATAMOTORS.NS  \n",
       "Symbols                       \n",
       "BHARTIARTL.NS           0.28  \n",
       "INDIGO.NS               0.26  \n",
       "HDFCBANK.NS             0.34  \n",
       "RELIANCE.NS             0.35  \n",
       "TATAMOTORS.NS           1.00  "
      ]
     },
     "execution_count": 25,
     "metadata": {},
     "output_type": "execute_result"
    }
   ],
   "source": [
    "# Generate Correlation matrix\n",
    "corr_matrix = returns.corr().round(2)\n",
    "corr_matrix"
   ]
  },
  {
   "cell_type": "code",
   "execution_count": 26,
   "metadata": {},
   "outputs": [],
   "source": [
    "# Set the investment weights (I arbitrarily picked for example)\n",
    "weights = np.array([0.20, 0.20, 0.20, 0.20, 0.20])"
   ]
  },
  {
   "cell_type": "code",
   "execution_count": 27,
   "metadata": {},
   "outputs": [],
   "source": [
    "# Calculate mean returns for each stock\n",
    "avg_rets = returns.mean()"
   ]
  },
  {
   "cell_type": "code",
   "execution_count": 29,
   "metadata": {},
   "outputs": [],
   "source": [
    "# Calculate mean returns for portfolio overall,\n",
    "# using dot product to\n",
    "# normalize individual means against investment weights\n",
    "\n",
    "port_mean = avg_rets.dot(weights)\n",
    " \n",
    "# Calculate portfolio standard deviation\n",
    "port_stdev = np.sqrt(weights.T.dot(corr_matrix).dot(weights))"
   ]
  },
  {
   "cell_type": "code",
   "execution_count": 30,
   "metadata": {},
   "outputs": [],
   "source": [
    "# Select our confidence interval (I'll choose 95% here)\n",
    "VaR_Level = 0.95"
   ]
  },
  {
   "cell_type": "code",
   "execution_count": 31,
   "metadata": {},
   "outputs": [
    {
     "name": "stdout",
     "output_type": "stream",
     "text": [
      "['Parametric Portfolio VaR 95% Confidence Level:', 1.0803]\n"
     ]
    }
   ],
   "source": [
    "# Using SciPy ppf method to generate values for the\n",
    "# inverse cumulative distribution function to a normal distribution\n",
    "# Plugging in the mean, standard deviation of our portfolio\n",
    "# as calculated above\n",
    "\n",
    "VaR_Portfolio = norm.ppf(1-VaR_Level, port_mean, port_stdev)\n",
    "print(['Parametric Portfolio VaR 95% Confidence Level:', round(VaR_Portfolio,4)*-1])"
   ]
  },
  {
   "cell_type": "code",
   "execution_count": 32,
   "metadata": {},
   "outputs": [
    {
     "name": "stdout",
     "output_type": "stream",
     "text": [
      "['Parametric Portfolio VaR 95% Confidence Level:', 1.0803]\n"
     ]
    }
   ],
   "source": [
    "print(['Parametric Portfolio VaR 95% Confidence Level:', round(VaR_Portfolio,4)*-1])"
   ]
  },
  {
   "cell_type": "code",
   "execution_count": 33,
   "metadata": {},
   "outputs": [
    {
     "name": "stdout",
     "output_type": "stream",
     "text": [
      "Asset          Value at Risk @ 95%\n",
      "-----------  ---------------------\n",
      "AIRTEL                      0.0362\n",
      "HDFC                        0.0274\n",
      "INDIGO                      0.0424\n",
      "RELIANCE                    0.0326\n",
      "TATA MOTORS                 0.053\n",
      "Portfolio                   1.0803\n"
     ]
    }
   ],
   "source": [
    "# Summarize Value at Risk\n",
    "print(tabulate([['AIRTEL', round(VaR_95_AIRTEL,4)*-1], ['HDFC', round(VaR_95_HDFC,4)*-1],\n",
    "                ['INDIGO', round(VaR_95_INDIGO,4)*-1], ['RELIANCE', round(VaR_95_RIL,4)*-1],\n",
    "                ['TATA MOTORS', round(VaR_95_TATA,4)*-1],['Portfolio', round(VaR_Portfolio,4)*-1]],\n",
    "               headers=['Asset', 'Value at Risk @ 95%']))"
   ]
  },
  {
   "cell_type": "code",
   "execution_count": 34,
   "metadata": {},
   "outputs": [
    {
     "name": "stdout",
     "output_type": "stream",
     "text": [
      "Asset          Average Daily Return\n",
      "-----------  ----------------------\n",
      "AIRTEL                       0.0006\n",
      "HDFC                         0.0006\n",
      "INDIGO                       0.001\n",
      "RELIANCE                     0.0012\n",
      "TATA MOTORS                  0.0007\n",
      "Portfolio                    0.0008\n"
     ]
    }
   ],
   "source": [
    "# Summarize Asset Return\n",
    "print(tabulate([['AIRTEL', round(returns['BHARTIARTL.NS'].mean(),4)], ['HDFC', round(returns['HDFCBANK.NS'].mean(),4)],\n",
    "                ['INDIGO', round(returns['INDIGO.NS'].mean(),4)], ['RELIANCE', round(returns['RELIANCE.NS'].mean(),4)],\n",
    "                ['TATA MOTORS', round(returns['TATAMOTORS.NS'].mean(),4)],['Portfolio', round(port_mean,4)]],\n",
    "               headers=['Asset', 'Average Daily Return']))"
   ]
  },
  {
   "cell_type": "code",
   "execution_count": 35,
   "metadata": {},
   "outputs": [
    {
     "data": {
      "text/plain": [
       "Symbols\n",
       "BHARTIARTL.NS    0.000632\n",
       "INDIGO.NS        0.000971\n",
       "HDFCBANK.NS      0.000631\n",
       "RELIANCE.NS      0.001165\n",
       "TATAMOTORS.NS    0.000685\n",
       "dtype: float64"
      ]
     },
     "execution_count": 35,
     "metadata": {},
     "output_type": "execute_result"
    }
   ],
   "source": [
    "asset_mean = returns.mean()\n",
    "asset_mean"
   ]
  },
  {
   "cell_type": "code",
   "execution_count": 36,
   "metadata": {},
   "outputs": [
    {
     "name": "stdout",
     "output_type": "stream",
     "text": [
      "Confidence Level      Average Daily Return    Value at Risk @ 95%\n",
      "------------------  ----------------------  ---------------------\n",
      "AIRTEL                              0.0006                 0.0362\n",
      "HDFC                                0.0006                 0.0274\n",
      "INDIGO                              0.001                  0.0424\n",
      "RELIANCE                            0.0012                 0.0326\n",
      "TATA MOTORS                         0.0007                 0.053\n",
      "Portfolio                           0.0008                 1.0803\n"
     ]
    }
   ],
   "source": [
    "# Compare Risk vs. Return\n",
    "print(tabulate([['AIRTEL', round(returns['BHARTIARTL.NS'].mean(),4), round(VaR_95_AIRTEL,4)*-1],\n",
    "                ['HDFC', round(returns['HDFCBANK.NS'].mean(),4), round(VaR_95_HDFC,4)*-1],\n",
    "                ['INDIGO', round(returns['INDIGO.NS'].mean(),4), round(VaR_95_INDIGO,4)*-1],\n",
    "                ['RELIANCE', round(returns['RELIANCE.NS'].mean(),4), round(VaR_95_RIL,4)*-1],\n",
    "                ['TATA MOTORS', round(returns['TATAMOTORS.NS'].mean(),4),round(VaR_95_TATA,4)*-1],\n",
    "                ['Portfolio', round(port_mean,4), round(VaR_Portfolio,4)*-1]],\n",
    "               headers=['Confidence Level', 'Average Daily Return','Value at Risk @ 95%']))"
   ]
  },
  {
   "cell_type": "markdown",
   "metadata": {},
   "source": [
    "# Capital Asset Pricing Model"
   ]
  },
  {
   "cell_type": "raw",
   "metadata": {},
   "source": [
    "The CAPM model describes the relationship between expected returns and volatility (systematic risk). Why does this matter? Because investors expect to be compensated for risk and time value of money. So the CAPM is used as a theoretical model that adjusts for risk when evaluating the value of a stock."
   ]
  },
  {
   "cell_type": "raw",
   "metadata": {},
   "source": [
    "Beta: measures the market risk that cannot be avoided through diversification. This is the relationship between the stock and the market portfolio. In other words, it is a measure of how much risk the investment will add to a portfolio that looks like the market.\n",
    "#    \n",
    "#     When beta = 0, it means that there's no relationship.\n",
    "#\n",
    "#     When beta < 1, it means that the stock is defensive (less prone to high highs and low lows)\n",
    "#\n",
    "#     When beta > 1, it means that the stock is aggresive (more prone to high highs and low lows)"
   ]
  },
  {
   "cell_type": "code",
   "execution_count": 37,
   "metadata": {},
   "outputs": [],
   "source": [
    "# Import data for Market Index - NASDAQ ticket GSPC\n",
    "market_data = pdr.get_data_yahoo('^BSESN', start=\"2018-01-01\", end=date.today())['Close']"
   ]
  },
  {
   "cell_type": "code",
   "execution_count": 38,
   "metadata": {},
   "outputs": [],
   "source": [
    "#From the closing prices, calculate periodic returns\n",
    "market_returns = market_data.pct_change()"
   ]
  },
  {
   "cell_type": "code",
   "execution_count": 39,
   "metadata": {},
   "outputs": [
    {
     "data": {
      "text/plain": [
       "Date\n",
       "2022-02-07   -0.017455\n",
       "2022-02-08    0.003252\n",
       "2022-02-09    0.011372\n",
       "2022-02-10    0.007869\n",
       "2022-02-11   -0.013120\n",
       "Name: Close, dtype: float64"
      ]
     },
     "execution_count": 39,
     "metadata": {},
     "output_type": "execute_result"
    }
   ],
   "source": [
    "market_returns.tail()"
   ]
  },
  {
   "cell_type": "code",
   "execution_count": 40,
   "metadata": {},
   "outputs": [
    {
     "data": {
      "text/plain": [
       "0.0006180112546178899"
      ]
     },
     "execution_count": 40,
     "metadata": {},
     "output_type": "execute_result"
    }
   ],
   "source": [
    "# Avearge market retun\n",
    "market_mean = market_returns.mean()\n",
    "market_VaR = norm.ppf(1-0.95, market_returns.mean(), market_returns.std())\n",
    "market_mean"
   ]
  },
  {
   "cell_type": "code",
   "execution_count": 41,
   "metadata": {},
   "outputs": [],
   "source": [
    "# Risk Free Rate\n",
    "risk_free_rate = 0.04/252"
   ]
  },
  {
   "cell_type": "code",
   "execution_count": 42,
   "metadata": {},
   "outputs": [
    {
     "data": {
      "text/plain": [
       "1.064317091865635"
      ]
     },
     "execution_count": 42,
     "metadata": {},
     "output_type": "execute_result"
    }
   ],
   "source": [
    "# Portfolio Beta\n",
    "port_beta = (port_mean - risk_free_rate)/market_mean\n",
    "port_beta"
   ]
  },
  {
   "cell_type": "code",
   "execution_count": 43,
   "metadata": {},
   "outputs": [],
   "source": [
    "# Select Asset to calculate Beta\n",
    "Asset = returns['RELIANCE.NS']\n",
    "asset_mean = Asset.mean()\n",
    "asset_VaR = norm.ppf(1-0.95, Asset.mean(), Asset.std())"
   ]
  },
  {
   "cell_type": "code",
   "execution_count": 44,
   "metadata": {},
   "outputs": [
    {
     "data": {
      "text/plain": [
       "1.627844299846949"
      ]
     },
     "execution_count": 44,
     "metadata": {},
     "output_type": "execute_result"
    }
   ],
   "source": [
    "# Beta of an Asset\n",
    "asset_beta = (asset_mean - risk_free_rate)/market_mean\n",
    "asset_beta"
   ]
  },
  {
   "cell_type": "code",
   "execution_count": 45,
   "metadata": {},
   "outputs": [
    {
     "data": {
      "text/plain": [
       "1.666381363760049"
      ]
     },
     "execution_count": 45,
     "metadata": {},
     "output_type": "execute_result"
    }
   ],
   "source": [
    "# Beta in down market\n",
    "asset_beta_down = (Asset[Asset<0].mean() - risk_free_rate)/market_returns[market_returns<0].mean()\n",
    "asset_beta_down"
   ]
  },
  {
   "cell_type": "code",
   "execution_count": 46,
   "metadata": {},
   "outputs": [
    {
     "data": {
      "text/plain": [
       "1.7661820170351827"
      ]
     },
     "execution_count": 46,
     "metadata": {},
     "output_type": "execute_result"
    }
   ],
   "source": [
    "# Beta in up market\n",
    "asset_beta_up = (Asset[Asset>=0].mean() - risk_free_rate)/market_returns[market_returns>=0].mean()\n",
    "asset_beta_up"
   ]
  },
  {
   "cell_type": "code",
   "execution_count": 47,
   "metadata": {},
   "outputs": [
    {
     "data": {
      "text/plain": [
       "1.0598906441499933"
      ]
     },
     "execution_count": 47,
     "metadata": {},
     "output_type": "execute_result"
    }
   ],
   "source": [
    "# Time Ratio\n",
    "asset_time_ratio = asset_beta_up/asset_beta_down\n",
    "asset_time_ratio"
   ]
  },
  {
   "cell_type": "markdown",
   "metadata": {},
   "source": [
    "# Sharpe ratio"
   ]
  },
  {
   "cell_type": "raw",
   "metadata": {},
   "source": [
    "Sharpe ratio is the measure of risk-adjusted return of a financial portfolio. A portfolio with a higher Sharpe ratio is considered superior relative to its peers. The measure was named after William F Sharpe, a Nobel laureate and professor of finance, emeritus at Stanford University"
   ]
  },
  {
   "cell_type": "code",
   "execution_count": 48,
   "metadata": {},
   "outputs": [],
   "source": [
    "# sharpe ratio\n",
    "sharpe_ratio_portfolio = (port_mean - risk_free_rate) / VaR_Portfolio*-1"
   ]
  },
  {
   "cell_type": "code",
   "execution_count": 49,
   "metadata": {},
   "outputs": [],
   "source": [
    "sharpe_ratio_asset = (asset_mean - risk_free_rate) / asset_VaR*-1"
   ]
  },
  {
   "cell_type": "code",
   "execution_count": 50,
   "metadata": {},
   "outputs": [],
   "source": [
    "sharpe_ratio_market = (market_mean - risk_free_rate) / market_VaR*-1"
   ]
  },
  {
   "cell_type": "code",
   "execution_count": 51,
   "metadata": {},
   "outputs": [
    {
     "name": "stdout",
     "output_type": "stream",
     "text": [
      "Asset        Sharpe Ratio\n",
      "---------  --------------\n",
      "Asset         0.0308377\n",
      "Market        0.0226533\n",
      "Portfolio     0.000608873\n"
     ]
    }
   ],
   "source": [
    "print(tabulate([['Asset', sharpe_ratio_asset],\n",
    "                ['Market', sharpe_ratio_market],\n",
    "                ['Portfolio', sharpe_ratio_portfolio]],\n",
    "               headers=['Asset', 'Sharpe Ratio']))"
   ]
  },
  {
   "cell_type": "markdown",
   "metadata": {},
   "source": [
    "# Max Sharpe Ratio - Portfolio"
   ]
  },
  {
   "cell_type": "code",
   "execution_count": 54,
   "metadata": {},
   "outputs": [
    {
     "data": {
      "text/html": [
       "<div>\n",
       "<style scoped>\n",
       "    .dataframe tbody tr th:only-of-type {\n",
       "        vertical-align: middle;\n",
       "    }\n",
       "\n",
       "    .dataframe tbody tr th {\n",
       "        vertical-align: top;\n",
       "    }\n",
       "\n",
       "    .dataframe thead th {\n",
       "        text-align: right;\n",
       "    }\n",
       "</style>\n",
       "<table border=\"1\" class=\"dataframe\">\n",
       "  <thead>\n",
       "    <tr style=\"text-align: right;\">\n",
       "      <th>Symbols</th>\n",
       "      <th>BHARTIARTL.NS</th>\n",
       "      <th>INDIGO.NS</th>\n",
       "      <th>HDFCBANK.NS</th>\n",
       "      <th>RELIANCE.NS</th>\n",
       "      <th>TATAMOTORS.NS</th>\n",
       "    </tr>\n",
       "    <tr>\n",
       "      <th>Date</th>\n",
       "      <th></th>\n",
       "      <th></th>\n",
       "      <th></th>\n",
       "      <th></th>\n",
       "      <th></th>\n",
       "    </tr>\n",
       "  </thead>\n",
       "  <tbody>\n",
       "    <tr>\n",
       "      <th>2022-02-07</th>\n",
       "      <td>706.500000</td>\n",
       "      <td>2170.100098</td>\n",
       "      <td>1468.150024</td>\n",
       "      <td>2317.100098</td>\n",
       "      <td>494.600006</td>\n",
       "    </tr>\n",
       "    <tr>\n",
       "      <th>2022-02-08</th>\n",
       "      <td>708.900024</td>\n",
       "      <td>2182.600098</td>\n",
       "      <td>1461.849976</td>\n",
       "      <td>2356.050049</td>\n",
       "      <td>492.750000</td>\n",
       "    </tr>\n",
       "    <tr>\n",
       "      <th>2022-02-09</th>\n",
       "      <td>719.349976</td>\n",
       "      <td>2253.800049</td>\n",
       "      <td>1497.599976</td>\n",
       "      <td>2383.500000</td>\n",
       "      <td>501.250000</td>\n",
       "    </tr>\n",
       "    <tr>\n",
       "      <th>2022-02-10</th>\n",
       "      <td>724.049988</td>\n",
       "      <td>2236.750000</td>\n",
       "      <td>1525.099976</td>\n",
       "      <td>2381.050049</td>\n",
       "      <td>507.450012</td>\n",
       "    </tr>\n",
       "    <tr>\n",
       "      <th>2022-02-11</th>\n",
       "      <td>715.150024</td>\n",
       "      <td>2264.949951</td>\n",
       "      <td>1518.849976</td>\n",
       "      <td>2376.399902</td>\n",
       "      <td>498.850006</td>\n",
       "    </tr>\n",
       "  </tbody>\n",
       "</table>\n",
       "</div>"
      ],
      "text/plain": [
       "Symbols     BHARTIARTL.NS    INDIGO.NS  HDFCBANK.NS  RELIANCE.NS  \\\n",
       "Date                                                               \n",
       "2022-02-07     706.500000  2170.100098  1468.150024  2317.100098   \n",
       "2022-02-08     708.900024  2182.600098  1461.849976  2356.050049   \n",
       "2022-02-09     719.349976  2253.800049  1497.599976  2383.500000   \n",
       "2022-02-10     724.049988  2236.750000  1525.099976  2381.050049   \n",
       "2022-02-11     715.150024  2264.949951  1518.849976  2376.399902   \n",
       "\n",
       "Symbols     TATAMOTORS.NS  \n",
       "Date                       \n",
       "2022-02-07     494.600006  \n",
       "2022-02-08     492.750000  \n",
       "2022-02-09     501.250000  \n",
       "2022-02-10     507.450012  \n",
       "2022-02-11     498.850006  "
      ]
     },
     "execution_count": 54,
     "metadata": {},
     "output_type": "execute_result"
    }
   ],
   "source": [
    "# Download closing prices\n",
    "import pandas_datareader as web\n",
    "\n",
    "tickers = ['BHARTIARTL.NS', 'INDIGO.NS','HDFCBANK.NS', 'RELIANCE.NS','TATAMOTORS.NS']\n",
    "closes = web.get_data_yahoo(tickers, start=\"2015-01-01\", end=date.today())['Close']\n",
    "closes.tail()"
   ]
  },
  {
   "cell_type": "code",
   "execution_count": 55,
   "metadata": {},
   "outputs": [
    {
     "name": "stdout",
     "output_type": "stream",
     "text": [
      "\u001b[31mERROR: Could not find a version that satisfies the requirement web (from versions: none)\u001b[0m\n",
      "\u001b[31mERROR: No matching distribution found for web\u001b[0m\n"
     ]
    }
   ],
   "source": [
    "!pip install web"
   ]
  },
  {
   "cell_type": "code",
   "execution_count": 56,
   "metadata": {},
   "outputs": [],
   "source": [
    "def calc_daily_returns(closes):\n",
    "    return np.log(closes/closes.shift(1))"
   ]
  },
  {
   "cell_type": "code",
   "execution_count": 57,
   "metadata": {},
   "outputs": [
    {
     "data": {
      "text/html": [
       "<div>\n",
       "<style scoped>\n",
       "    .dataframe tbody tr th:only-of-type {\n",
       "        vertical-align: middle;\n",
       "    }\n",
       "\n",
       "    .dataframe tbody tr th {\n",
       "        vertical-align: top;\n",
       "    }\n",
       "\n",
       "    .dataframe thead th {\n",
       "        text-align: right;\n",
       "    }\n",
       "</style>\n",
       "<table border=\"1\" class=\"dataframe\">\n",
       "  <thead>\n",
       "    <tr style=\"text-align: right;\">\n",
       "      <th>Symbols</th>\n",
       "      <th>BHARTIARTL.NS</th>\n",
       "      <th>INDIGO.NS</th>\n",
       "      <th>HDFCBANK.NS</th>\n",
       "      <th>RELIANCE.NS</th>\n",
       "      <th>TATAMOTORS.NS</th>\n",
       "    </tr>\n",
       "    <tr>\n",
       "      <th>Date</th>\n",
       "      <th></th>\n",
       "      <th></th>\n",
       "      <th></th>\n",
       "      <th></th>\n",
       "      <th></th>\n",
       "    </tr>\n",
       "  </thead>\n",
       "  <tbody>\n",
       "    <tr>\n",
       "      <th>2022-02-07</th>\n",
       "      <td>-0.019206</td>\n",
       "      <td>0.094534</td>\n",
       "      <td>-0.037335</td>\n",
       "      <td>-0.006110</td>\n",
       "      <td>-0.012058</td>\n",
       "    </tr>\n",
       "    <tr>\n",
       "      <th>2022-02-08</th>\n",
       "      <td>0.003391</td>\n",
       "      <td>0.005744</td>\n",
       "      <td>-0.004300</td>\n",
       "      <td>0.016670</td>\n",
       "      <td>-0.003747</td>\n",
       "    </tr>\n",
       "    <tr>\n",
       "      <th>2022-02-09</th>\n",
       "      <td>0.014633</td>\n",
       "      <td>0.032101</td>\n",
       "      <td>0.024161</td>\n",
       "      <td>0.011583</td>\n",
       "      <td>0.017103</td>\n",
       "    </tr>\n",
       "    <tr>\n",
       "      <th>2022-02-10</th>\n",
       "      <td>0.006512</td>\n",
       "      <td>-0.007594</td>\n",
       "      <td>0.018196</td>\n",
       "      <td>-0.001028</td>\n",
       "      <td>0.012293</td>\n",
       "    </tr>\n",
       "    <tr>\n",
       "      <th>2022-02-11</th>\n",
       "      <td>-0.012368</td>\n",
       "      <td>0.012529</td>\n",
       "      <td>-0.004107</td>\n",
       "      <td>-0.001955</td>\n",
       "      <td>-0.017093</td>\n",
       "    </tr>\n",
       "  </tbody>\n",
       "</table>\n",
       "</div>"
      ],
      "text/plain": [
       "Symbols     BHARTIARTL.NS  INDIGO.NS  HDFCBANK.NS  RELIANCE.NS  TATAMOTORS.NS\n",
       "Date                                                                         \n",
       "2022-02-07      -0.019206   0.094534    -0.037335    -0.006110      -0.012058\n",
       "2022-02-08       0.003391   0.005744    -0.004300     0.016670      -0.003747\n",
       "2022-02-09       0.014633   0.032101     0.024161     0.011583       0.017103\n",
       "2022-02-10       0.006512  -0.007594     0.018196    -0.001028       0.012293\n",
       "2022-02-11      -0.012368   0.012529    -0.004107    -0.001955      -0.017093"
      ]
     },
     "execution_count": 57,
     "metadata": {},
     "output_type": "execute_result"
    }
   ],
   "source": [
    "daily_returns = calc_daily_returns(closes)\n",
    "daily_returns.tail()"
   ]
  },
  {
   "cell_type": "code",
   "execution_count": 58,
   "metadata": {},
   "outputs": [
    {
     "data": {
      "text/plain": [
       "array([[4.34925175e-04],\n",
       "       [6.14323787e-04],\n",
       "       [6.60728002e-04],\n",
       "       [9.60742820e-04],\n",
       "       [6.53248667e-06]])"
      ]
     },
     "execution_count": 58,
     "metadata": {},
     "output_type": "execute_result"
    }
   ],
   "source": [
    "mean_daily_returns = np.array(daily_returns.mean()).reshape(-1, 1)\n",
    "mean_daily_returns"
   ]
  },
  {
   "cell_type": "code",
   "execution_count": 60,
   "metadata": {},
   "outputs": [],
   "source": [
    "# Create NULL Objects and define Risk free rate\n",
    "srs = []\n",
    "portfolio_stds = []\n",
    "rand_wts = []\n",
    "portfolio_returns = []\n",
    "risk_free_rate = 0\n",
    "\n",
    "# Define number of iterations\n",
    "for i in range(0, 20000):\n",
    "    random_weights = np.random.dirichlet(np.ones(5), size = 1).T\n",
    "    rand_wts.append(random_weights)\n",
    "    # portolfio return\n",
    "    portfolio_return = np.sum(mean_daily_returns * random_weights)*252 #Annulaized\n",
    "    portfolio_returns.append(portfolio_return)\n",
    "    # portfolio volatility\n",
    "    portfolio_std = np.sqrt(np.dot(random_weights.T, np.dot(corr_matrix, random_weights))) * np.sqrt(252) #Annulaized\n",
    "    portfolio_stds.append(portfolio_std)\n",
    "    # sharpe ratio\n",
    "    sharpe_ratio = (portfolio_return - risk_free_rate) / portfolio_std\n",
    "    srs.append(sharpe_ratio)"
   ]
  },
  {
   "cell_type": "code",
   "execution_count": 61,
   "metadata": {},
   "outputs": [],
   "source": [
    "# Calculate portfolio values\n",
    "max_index = srs.index(max(srs))\n",
    "best_wts = rand_wts[max_index]\n",
    "max_sr = srs[max_index]\n",
    "portfolio_sd = portfolio_stds[max_index]\n",
    "max_return = portfolio_returns[max_index]"
   ]
  },
  {
   "cell_type": "code",
   "execution_count": 62,
   "metadata": {},
   "outputs": [
    {
     "name": "stdout",
     "output_type": "stream",
     "text": [
      "Max Sharpe Ratio: [[0.01691869]]\n",
      "Best Weights: [[7.84083573e-02 2.36917958e-01 9.79070746e-02 5.86757516e-01\n",
      "  9.09487631e-06]]\n",
      "Portfolio Volatility: [[1203.58577404]]%, Sum of weights: 1.0\n",
      "Max Expected Annual Return: 20.4%\n"
     ]
    }
   ],
   "source": [
    "# Print output\n",
    "print(f\"Max Sharpe Ratio: {max_sr}\")\n",
    "print(f\"Best Weights: {best_wts.T}\")\n",
    "print(f\"Portfolio Volatility: {portfolio_sd*100}%, Sum of weights: {np.sum(best_wts)}\")\n",
    "print(f\"Max Expected Annual Return: {round(max_return*100,1)}%\")"
   ]
  },
  {
   "cell_type": "code",
   "execution_count": 63,
   "metadata": {},
   "outputs": [
    {
     "data": {
      "image/png": "[encoded data removed]",
      "text/plain": [
       "<Figure size 432x288 with 1 Axes>"
      ]
     },
     "metadata": {},
     "output_type": "display_data"
    }
   ],
   "source": [
    "pie_labels = list(daily_returns.columns)\n",
    "pie_data = best_wts.T.flatten()\n",
    "pie_explode = [0.1, 0.1, 0.1, 0.1, 0]\n",
    "\n",
    "# Pie set up\n",
    "plt.pie(pie_data, explode = pie_explode, labels = pie_labels, startangle = 90, shadow = True, autopct='%1.1f%%')\n",
    "\n",
    "# displaying the title\n",
    "plt.title(\"Max Sharpe Ratio Portfolio\")\n",
    "\n",
    "plt.show()"
   ]
  },
  {
   "cell_type": "code",
   "execution_count": null,
   "metadata": {},
   "outputs": [],
   "source": []
  }
 ],
 "metadata": {
  "kernelspec": {
   "display_name": "Python 3",
   "language": "python",
   "name": "python3"
  },
  "language_info": {
   "codemirror_mode": {
    "name": "ipython",
    "version": 3
   },
   "file_extension": ".py",
   "mimetype": "text/x-python",
   "name": "python",
   "nbconvert_exporter": "python",
   "pygments_lexer": "ipython3",
   "version": "3.8.2"
  }
 },
 "nbformat": 4,
 "nbformat_minor": 4
}
